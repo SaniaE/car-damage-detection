{
 "cells": [
  {
   "cell_type": "code",
   "execution_count": 1,
   "id": "2cad0963",
   "metadata": {},
   "outputs": [],
   "source": [
    "import os "
   ]
  },
  {
   "cell_type": "code",
   "execution_count": 2,
   "id": "8f43e168",
   "metadata": {},
   "outputs": [],
   "source": [
    "DATA_PATHS = {\n",
    "    \"dataset_dir\": \"annotations/dataset/raw/\",\n",
    "    \"annotator_tool\": \"annotations/labelimg/\"\n",
    "}\n",
    "\n",
    "classes = ['Dent', 'Glass shattered','Scratch', 'Smash']"
   ]
  },
  {
   "cell_type": "code",
   "execution_count": 3,
   "id": "84d943bb",
   "metadata": {},
   "outputs": [
    {
     "name": "stderr",
     "output_type": "stream",
     "text": [
      "Cloning into 'annotations/labelimg'...\n"
     ]
    }
   ],
   "source": [
    "!git clone https://github.com/tzutalin/labelImg {DATA_PATHS['annotator_tool']}\n",
    "!cd {DATA_PATHS['annotator_tool']} && pyrcc5 -o libs/resources.py resources.qrc"
   ]
  },
  {
   "cell_type": "code",
   "execution_count": 4,
   "id": "a9978729",
   "metadata": {},
   "outputs": [
    {
     "name": "stderr",
     "output_type": "stream",
     "text": [
      "Warning: QT_DEVICE_PIXEL_RATIO is deprecated. Instead use:\n",
      "   QT_AUTO_SCREEN_SCALE_FACTOR to enable platform plugin controlled per-screen factors.\n",
      "   QT_SCREEN_SCALE_FACTORS to set per-screen DPI.\n",
      "   QT_SCALE_FACTOR to set the application global scale factor.\n"
     ]
    }
   ],
   "source": [
    "!cd {DATA_PATHS['annotator_tool']} && python labelImg.py"
   ]
  },
  {
   "cell_type": "code",
   "execution_count": null,
   "id": "d6713936",
   "metadata": {},
   "outputs": [],
   "source": []
  }
 ],
 "metadata": {
  "kernelspec": {
   "display_name": "od_2",
   "language": "python",
   "name": "od_2"
  },
  "language_info": {
   "codemirror_mode": {
    "name": "ipython",
    "version": 3
   },
   "file_extension": ".py",
   "mimetype": "text/x-python",
   "name": "python",
   "nbconvert_exporter": "python",
   "pygments_lexer": "ipython3",
   "version": "3.8.8"
  }
 },
 "nbformat": 4,
 "nbformat_minor": 5
}
